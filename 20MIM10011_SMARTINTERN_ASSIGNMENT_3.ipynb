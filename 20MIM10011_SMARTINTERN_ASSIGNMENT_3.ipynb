{
  "cells": [
    {
      "cell_type": "markdown",
      "metadata": {
        "id": "view-in-github",
        "colab_type": "text"
      },
      "source": [
        "<a href=\"https://colab.research.google.com/github/SOORYANARAYANANDR/SmartInternz-Assignments/blob/main/ASSIGNMENT_3.ipynb\" target=\"_parent\"><img src=\"https://colab.research.google.com/assets/colab-badge.svg\" alt=\"Open In Colab\"/></a>"
      ]
    },
    {
      "cell_type": "markdown",
      "metadata": {
        "id": "P-UGAsW34gSN"
      },
      "source": [
        "ASSIGNMENT_3\n"
      ]
    },
    {
      "cell_type": "code",
      "execution_count": null,
      "metadata": {
        "id": "8tLV3m964gSP"
      },
      "outputs": [],
      "source": [
        "import pandas as pd"
      ]
    },
    {
      "cell_type": "markdown",
      "metadata": {
        "id": "sc64lZ8P4gSQ"
      },
      "source": [
        "2. Load the dataset."
      ]
    },
    {
      "cell_type": "code",
      "execution_count": null,
      "metadata": {
        "id": "KMdsYPvD4gSQ"
      },
      "outputs": [],
      "source": [
        "# Load a CSV dataset\n",
        "data = pd.read_csv(r\"C:/Users/sonudr/Downloads/penguins_size.csv\")"
      ]
    },
    {
      "cell_type": "code",
      "execution_count": null,
      "metadata": {
        "id": "ubL8Hruh4gSR",
        "outputId": "0948d500-f2d2-4d3b-fdc8-c16cfd991f96"
      },
      "outputs": [
        {
          "data": {
            "text/html": [
              "<div>\n",
              "<style scoped>\n",
              "    .dataframe tbody tr th:only-of-type {\n",
              "        vertical-align: middle;\n",
              "    }\n",
              "\n",
              "    .dataframe tbody tr th {\n",
              "        vertical-align: top;\n",
              "    }\n",
              "\n",
              "    .dataframe thead th {\n",
              "        text-align: right;\n",
              "    }\n",
              "</style>\n",
              "<table border=\"1\" class=\"dataframe\">\n",
              "  <thead>\n",
              "    <tr style=\"text-align: right;\">\n",
              "      <th></th>\n",
              "      <th>species</th>\n",
              "      <th>island</th>\n",
              "      <th>culmen_length_mm</th>\n",
              "      <th>culmen_depth_mm</th>\n",
              "      <th>flipper_length_mm</th>\n",
              "      <th>body_mass_g</th>\n",
              "      <th>sex</th>\n",
              "    </tr>\n",
              "  </thead>\n",
              "  <tbody>\n",
              "    <tr>\n",
              "      <th>0</th>\n",
              "      <td>Adelie</td>\n",
              "      <td>Torgersen</td>\n",
              "      <td>39.1</td>\n",
              "      <td>18.7</td>\n",
              "      <td>181.0</td>\n",
              "      <td>3750.0</td>\n",
              "      <td>MALE</td>\n",
              "    </tr>\n",
              "    <tr>\n",
              "      <th>1</th>\n",
              "      <td>Adelie</td>\n",
              "      <td>Torgersen</td>\n",
              "      <td>39.5</td>\n",
              "      <td>17.4</td>\n",
              "      <td>186.0</td>\n",
              "      <td>3800.0</td>\n",
              "      <td>FEMALE</td>\n",
              "    </tr>\n",
              "    <tr>\n",
              "      <th>2</th>\n",
              "      <td>Adelie</td>\n",
              "      <td>Torgersen</td>\n",
              "      <td>40.3</td>\n",
              "      <td>18.0</td>\n",
              "      <td>195.0</td>\n",
              "      <td>3250.0</td>\n",
              "      <td>FEMALE</td>\n",
              "    </tr>\n",
              "    <tr>\n",
              "      <th>3</th>\n",
              "      <td>Adelie</td>\n",
              "      <td>Torgersen</td>\n",
              "      <td>NaN</td>\n",
              "      <td>NaN</td>\n",
              "      <td>NaN</td>\n",
              "      <td>NaN</td>\n",
              "      <td>NaN</td>\n",
              "    </tr>\n",
              "    <tr>\n",
              "      <th>4</th>\n",
              "      <td>Adelie</td>\n",
              "      <td>Torgersen</td>\n",
              "      <td>36.7</td>\n",
              "      <td>19.3</td>\n",
              "      <td>193.0</td>\n",
              "      <td>3450.0</td>\n",
              "      <td>FEMALE</td>\n",
              "    </tr>\n",
              "  </tbody>\n",
              "</table>\n",
              "</div>"
            ],
            "text/plain": [
              "  species     island  culmen_length_mm  culmen_depth_mm  flipper_length_mm  \\\n",
              "0  Adelie  Torgersen              39.1             18.7              181.0   \n",
              "1  Adelie  Torgersen              39.5             17.4              186.0   \n",
              "2  Adelie  Torgersen              40.3             18.0              195.0   \n",
              "3  Adelie  Torgersen               NaN              NaN                NaN   \n",
              "4  Adelie  Torgersen              36.7             19.3              193.0   \n",
              "\n",
              "   body_mass_g     sex  \n",
              "0       3750.0    MALE  \n",
              "1       3800.0  FEMALE  \n",
              "2       3250.0  FEMALE  \n",
              "3          NaN     NaN  \n",
              "4       3450.0  FEMALE  "
            ]
          },
          "execution_count": 33,
          "metadata": {},
          "output_type": "execute_result"
        }
      ],
      "source": [
        "data.head()"
      ]
    },
    {
      "cell_type": "markdown",
      "metadata": {
        "id": "XmAeSG_N4gSS"
      },
      "source": [
        "3. Perform the Below Visualizations."
      ]
    },
    {
      "cell_type": "markdown",
      "metadata": {
        "id": "yePtTcfG4gSS"
      },
      "source": [
        "Univariate Analysis:"
      ]
    },
    {
      "cell_type": "code",
      "execution_count": null,
      "metadata": {
        "id": "_LIh54Jj4gST",
        "outputId": "a9e76e7d-1483-43bd-f7ae-6903dbb1287b"
      },
      "outputs": [
        {
          "data": {
            "image/png": "[encoded data removed]",
            "text/plain": [
              "<Figure size 640x480 with 1 Axes>"
            ]
          },
          "metadata": {},
          "output_type": "display_data"
        }
      ],
      "source": [
        "import matplotlib.pyplot as plt\n",
        "\n",
        "# Plot a histogram for a numeric variable\n",
        "plt.hist(data['body_mass_g'], bins=20)\n",
        "plt.xlabel('culmen_length_mm')\n",
        "plt.ylabel('culmen_depth_mm')\n",
        "plt.title('Histogram of Numeric Variable')\n",
        "plt.show()\n"
      ]
    },
    {
      "cell_type": "markdown",
      "metadata": {
        "id": "x8FlaK5o4gSU"
      },
      "source": [
        "Bivariate Analysis:"
      ]
    },
    {
      "cell_type": "code",
      "execution_count": null,
      "metadata": {
        "id": "cBUIyFEC4gSU",
        "outputId": "430a4fa7-ba81-416c-df78-74c51ca120fc"
      },
      "outputs": [
        {
          "data": {
            "image/png": "[encoded data removed]",
            "text/plain": [
              "<Figure size 640x480 with 1 Axes>"
            ]
          },
          "metadata": {},
          "output_type": "display_data"
        }
      ],
      "source": [
        "# Scatter plot for two numeric variables\n",
        "plt.scatter(data['culmen_length_mm'], data['culmen_depth_mm'])\n",
        "plt.xlabel('culmen_length_mm')\n",
        "plt.ylabel('culmen_depth_mm')\n",
        "plt.title('Scatter Plot of Two Numeric Variables')\n",
        "plt.show()\n"
      ]
    },
    {
      "cell_type": "markdown",
      "metadata": {
        "id": "fafBwph-4gSU"
      },
      "source": [
        "Multivariate Analysis:"
      ]
    },
    {
      "cell_type": "code",
      "execution_count": null,
      "metadata": {
        "id": "0NQxylSk4gSV",
        "outputId": "2f9304e9-93d6-4ee6-f9dc-1c30812de96b"
      },
      "outputs": [
        {
          "name": "stderr",
          "output_type": "stream",
          "text": [
            "C:\\Users\\sonudr\\AppData\\Local\\Temp\\ipykernel_6608\\2299829469.py:3: FutureWarning: The default value of numeric_only in DataFrame.corr is deprecated. In a future version, it will default to False. Select only valid columns or specify the value of numeric_only to silence this warning.\n",
            "  correlation_matrix = data.corr()\n"
          ]
        },
        {
          "data": {
            "image/png": "[encoded data removed]",
            "text/plain": [
              "<Figure size 640x480 with 2 Axes>"
            ]
          },
          "metadata": {},
          "output_type": "display_data"
        }
      ],
      "source": [
        "# Compute the correlation matrix\n",
        "import seaborn as sns\n",
        "correlation_matrix = data.corr()\n",
        "\n",
        "# Create a heatmap to visualize correlations\n",
        "sns.heatmap(correlation_matrix, annot=False, cmap='coolwarm')\n",
        "plt.title('Correlation Heatmap')\n",
        "plt.show()\n",
        "\n"
      ]
    },
    {
      "cell_type": "code",
      "execution_count": null,
      "metadata": {
        "id": "WK3xHKGb4gSV",
        "outputId": "ccd302b1-1748-4c11-9163-b010285a8f8b"
      },
      "outputs": [
        {
          "name": "stdout",
          "output_type": "stream",
          "text": [
            "       culmen_length_mm  culmen_depth_mm  flipper_length_mm  body_mass_g\n",
            "count        342.000000       342.000000         342.000000   342.000000\n",
            "mean          43.921930        17.151170         200.915205  4201.754386\n",
            "std            5.459584         1.974793          14.061714   801.954536\n",
            "min           32.100000        13.100000         172.000000  2700.000000\n",
            "25%           39.225000        15.600000         190.000000  3550.000000\n",
            "50%           44.450000        17.300000         197.000000  4050.000000\n",
            "75%           48.500000        18.700000         213.000000  4750.000000\n",
            "max           59.600000        21.500000         231.000000  6300.000000\n"
          ]
        }
      ],
      "source": [
        "import pandas as pd\n",
        "\n",
        "# Assuming 'data' is your DataFrame\n",
        "numeric_data = data.select_dtypes(include=['number'])  # Select numeric columns\n",
        "\n",
        "# Calculate descriptive statistics\n",
        "descriptive_stats = numeric_data.describe()\n",
        "\n",
        "# Print the results\n",
        "print(descriptive_stats)\n"
      ]
    },
    {
      "cell_type": "code",
      "execution_count": null,
      "metadata": {
        "id": "HYx0AN_B4gSV",
        "outputId": "08c9fbd5-cfd0-4c46-d8a6-510a5e99d5dd"
      },
      "outputs": [
        {
          "data": {
            "text/html": [
              "<div>\n",
              "<style scoped>\n",
              "    .dataframe tbody tr th:only-of-type {\n",
              "        vertical-align: middle;\n",
              "    }\n",
              "\n",
              "    .dataframe tbody tr th {\n",
              "        vertical-align: top;\n",
              "    }\n",
              "\n",
              "    .dataframe thead th {\n",
              "        text-align: right;\n",
              "    }\n",
              "</style>\n",
              "<table border=\"1\" class=\"dataframe\">\n",
              "  <thead>\n",
              "    <tr style=\"text-align: right;\">\n",
              "      <th></th>\n",
              "      <th>species</th>\n",
              "      <th>island</th>\n",
              "      <th>culmen_length_mm</th>\n",
              "      <th>culmen_depth_mm</th>\n",
              "      <th>flipper_length_mm</th>\n",
              "      <th>body_mass_g</th>\n",
              "      <th>sex</th>\n",
              "    </tr>\n",
              "  </thead>\n",
              "  <tbody>\n",
              "    <tr>\n",
              "      <th>0</th>\n",
              "      <td>Adelie</td>\n",
              "      <td>Torgersen</td>\n",
              "      <td>39.1</td>\n",
              "      <td>18.7</td>\n",
              "      <td>181.0</td>\n",
              "      <td>3750.0</td>\n",
              "      <td>MALE</td>\n",
              "    </tr>\n",
              "    <tr>\n",
              "      <th>1</th>\n",
              "      <td>Adelie</td>\n",
              "      <td>Torgersen</td>\n",
              "      <td>39.5</td>\n",
              "      <td>17.4</td>\n",
              "      <td>186.0</td>\n",
              "      <td>3800.0</td>\n",
              "      <td>FEMALE</td>\n",
              "    </tr>\n",
              "    <tr>\n",
              "      <th>2</th>\n",
              "      <td>Adelie</td>\n",
              "      <td>Torgersen</td>\n",
              "      <td>40.3</td>\n",
              "      <td>18.0</td>\n",
              "      <td>195.0</td>\n",
              "      <td>3250.0</td>\n",
              "      <td>FEMALE</td>\n",
              "    </tr>\n",
              "    <tr>\n",
              "      <th>3</th>\n",
              "      <td>Adelie</td>\n",
              "      <td>Torgersen</td>\n",
              "      <td>NaN</td>\n",
              "      <td>NaN</td>\n",
              "      <td>NaN</td>\n",
              "      <td>NaN</td>\n",
              "      <td>NaN</td>\n",
              "    </tr>\n",
              "    <tr>\n",
              "      <th>4</th>\n",
              "      <td>Adelie</td>\n",
              "      <td>Torgersen</td>\n",
              "      <td>36.7</td>\n",
              "      <td>19.3</td>\n",
              "      <td>193.0</td>\n",
              "      <td>3450.0</td>\n",
              "      <td>FEMALE</td>\n",
              "    </tr>\n",
              "  </tbody>\n",
              "</table>\n",
              "</div>"
            ],
            "text/plain": [
              "  species     island  culmen_length_mm  culmen_depth_mm  flipper_length_mm  \\\n",
              "0  Adelie  Torgersen              39.1             18.7              181.0   \n",
              "1  Adelie  Torgersen              39.5             17.4              186.0   \n",
              "2  Adelie  Torgersen              40.3             18.0              195.0   \n",
              "3  Adelie  Torgersen               NaN              NaN                NaN   \n",
              "4  Adelie  Torgersen              36.7             19.3              193.0   \n",
              "\n",
              "   body_mass_g     sex  \n",
              "0       3750.0    MALE  \n",
              "1       3800.0  FEMALE  \n",
              "2       3250.0  FEMALE  \n",
              "3          NaN     NaN  \n",
              "4       3450.0  FEMALE  "
            ]
          },
          "execution_count": 38,
          "metadata": {},
          "output_type": "execute_result"
        }
      ],
      "source": [
        "data.head()"
      ]
    },
    {
      "cell_type": "markdown",
      "metadata": {
        "id": "E81O7_S84gSW"
      },
      "source": [
        "4. Perform descriptive statistics on the dataset."
      ]
    },
    {
      "cell_type": "code",
      "execution_count": null,
      "metadata": {
        "id": "BO3ZywHD4gSW",
        "outputId": "cf57d205-e862-438f-c962-9b29d12b15da"
      },
      "outputs": [
        {
          "name": "stdout",
          "output_type": "stream",
          "text": [
            "Mean: 4201.754385964912\n",
            "Median: 4050.0\n",
            "Standard Deviation: 801.9545356980956\n"
          ]
        }
      ],
      "source": [
        "# Calculate mean for a specific column\n",
        "mean_value = data['body_mass_g'].mean()\n",
        "print(\"Mean:\", mean_value)\n",
        "\n",
        "# Calculate median for a specific column\n",
        "median_value = data['body_mass_g'].median()\n",
        "print(\"Median:\", median_value)\n",
        "\n",
        "# Calculate standard deviation for a specific column\n",
        "std_deviation = data['body_mass_g'].std()\n",
        "print(\"Standard Deviation:\", std_deviation)\n"
      ]
    },
    {
      "cell_type": "markdown",
      "metadata": {
        "id": "ePv4MJGh4gSW"
      },
      "source": [
        "\n",
        "5.Handle the Missing values."
      ]
    },
    {
      "cell_type": "code",
      "execution_count": null,
      "metadata": {
        "id": "eR9gxTXf4gSW",
        "outputId": "2f83efd7-707d-4bba-dfd7-8821a091eb82"
      },
      "outputs": [
        {
          "name": "stdout",
          "output_type": "stream",
          "text": [
            "species               0\n",
            "island                0\n",
            "culmen_length_mm      2\n",
            "culmen_depth_mm       2\n",
            "flipper_length_mm     2\n",
            "body_mass_g           2\n",
            "sex                  10\n",
            "dtype: int64\n"
          ]
        }
      ],
      "source": [
        "missing_values = data.isnull().sum()\n",
        "print(missing_values)\n"
      ]
    },
    {
      "cell_type": "markdown",
      "metadata": {
        "id": "IMuYPzZ-4gSW"
      },
      "source": [
        "Remove Rows with Missing Values:"
      ]
    },
    {
      "cell_type": "code",
      "execution_count": null,
      "metadata": {
        "id": "8DZuWy6E4gSX",
        "outputId": "53e760d6-86c2-4b0c-aaae-7fa603539ce7"
      },
      "outputs": [
        {
          "name": "stdout",
          "output_type": "stream",
          "text": [
            "    species     island  culmen_length_mm  culmen_depth_mm  flipper_length_mm  \\\n",
            "0    Adelie  Torgersen              39.1             18.7              181.0   \n",
            "1    Adelie  Torgersen              39.5             17.4              186.0   \n",
            "2    Adelie  Torgersen              40.3             18.0              195.0   \n",
            "4    Adelie  Torgersen              36.7             19.3              193.0   \n",
            "5    Adelie  Torgersen              39.3             20.6              190.0   \n",
            "..      ...        ...               ...              ...                ...   \n",
            "338  Gentoo     Biscoe              47.2             13.7              214.0   \n",
            "340  Gentoo     Biscoe              46.8             14.3              215.0   \n",
            "341  Gentoo     Biscoe              50.4             15.7              222.0   \n",
            "342  Gentoo     Biscoe              45.2             14.8              212.0   \n",
            "343  Gentoo     Biscoe              49.9             16.1              213.0   \n",
            "\n",
            "     body_mass_g     sex  \n",
            "0         3750.0    MALE  \n",
            "1         3800.0  FEMALE  \n",
            "2         3250.0  FEMALE  \n",
            "4         3450.0  FEMALE  \n",
            "5         3650.0    MALE  \n",
            "..           ...     ...  \n",
            "338       4925.0  FEMALE  \n",
            "340       4850.0  FEMALE  \n",
            "341       5750.0    MALE  \n",
            "342       5200.0  FEMALE  \n",
            "343       5400.0    MALE  \n",
            "\n",
            "[334 rows x 7 columns]\n"
          ]
        }
      ],
      "source": [
        "data_cleaned = data.dropna()\n",
        "print(data_cleaned)"
      ]
    },
    {
      "cell_type": "markdown",
      "metadata": {
        "id": "77ip1KoA4gSX"
      },
      "source": [
        "Impute Missing Values - Numeric Variables:"
      ]
    },
    {
      "cell_type": "code",
      "execution_count": null,
      "metadata": {
        "id": "aJ2PEUKH4gSX"
      },
      "outputs": [],
      "source": [
        "mean_value = data['flipper_length_mm'].mean()\n",
        "data['flipper_length_mm'].fillna(mean_value, inplace=True)\n"
      ]
    },
    {
      "cell_type": "markdown",
      "metadata": {
        "id": "KAD_N5PP4gSX"
      },
      "source": [
        "6. Find the outliers and replace them outliers"
      ]
    },
    {
      "cell_type": "code",
      "execution_count": null,
      "metadata": {
        "id": "e3GoJ3mR4gSX",
        "outputId": "28af48dc-96f2-4ff2-e1a3-c1910f268cd0"
      },
      "outputs": [
        {
          "name": "stdout",
          "output_type": "stream",
          "text": [
            "   culmen_length_mm  culmen_depth_mm  flipper_length_mm  body_mass_g\n",
            "0          0.871495         0.919863           0.604437     0.672170\n",
            "1          0.803383         0.562585           0.196712     0.764539\n",
            "2          0.428299         0.844605           0.119821     0.679133\n",
            "3          0.264061         0.740250           0.210042     0.213816\n"
          ]
        }
      ],
      "source": [
        "import pandas as pd\n",
        "import numpy as np\n",
        "\n",
        "# Create the DataFrame as previously mentioned\n",
        "num_observations = 4\n",
        "num_features = 4\n",
        "data = np.random.rand(num_observations, num_features)\n",
        "df = pd.DataFrame(data, columns=['culmen_length_mm', 'culmen_depth_mm', 'flipper_length_mm', 'body_mass_g'])\n",
        "\n",
        "# Function to replace outliers with the median\n",
        "def replace_outliers_with_median(column):\n",
        "    Q1 = column.quantile(0.25)\n",
        "    Q3 = column.quantile(0.75)\n",
        "    IQR = Q3 - Q1\n",
        "    lower_bound = Q1 - 1.5 * IQR\n",
        "    upper_bound = Q3 + 1.5 * IQR\n",
        "    column = column.apply(lambda x: x if lower_bound <= x <= upper_bound else column.median())\n",
        "    return column\n",
        "\n",
        "# Replace outliers in 'culmen_length_mm' column\n",
        "df['culmen_length_mm'] = replace_outliers_with_median(df['culmen_length_mm'])\n",
        "\n",
        "# Display the DataFrame with replaced outliers\n",
        "print(df)\n"
      ]
    },
    {
      "cell_type": "markdown",
      "metadata": {
        "id": "eVHJKGwG4gSY"
      },
      "source": [
        "7.Check the correlation of independent variables with the target"
      ]
    },
    {
      "cell_type": "code",
      "execution_count": null,
      "metadata": {
        "id": "YvfgscRq4gSY",
        "outputId": "fed4f054-363a-4c58-f34a-18f0c223eff8"
      },
      "outputs": [
        {
          "name": "stdout",
          "output_type": "stream",
          "text": [
            "culmen_length_mm    0.107236\n",
            "culmen_depth_mm    -0.031346\n",
            "body_mass_g         0.000361\n",
            "Name: flipper_length_mm, dtype: float64\n"
          ]
        }
      ],
      "source": [
        "data = {\n",
        "    'culmen_length_mm': np.random.rand(100),\n",
        "    'culmen_depth_mm': np.random.rand(100),\n",
        "    'body_mass_g': np.random.rand(100),\n",
        "    'flipper_length_mm': np.random.rand(100)\n",
        "}\n",
        "\n",
        "df = pd.DataFrame(data)\n",
        "\n",
        "# Calculate the correlation matrix\n",
        "correlation_matrix = df.corr()\n",
        "\n",
        "# Extract the correlation of independent variables with the flipper_length_mm\n",
        "correlation_with_flipper_length_mm = correlation_matrix['flipper_length_mm'].drop('flipper_length_mm')  # Remove the flipper_length_mm's self-correlation\n",
        "\n",
        "# Display the correlation with the flipper_length_mm\n",
        "print(correlation_with_flipper_length_mm)\n"
      ]
    },
    {
      "cell_type": "markdown",
      "metadata": {
        "id": "073ga2gn4gSY"
      },
      "source": [
        "8. Check for Categorical columns and perform encoding."
      ]
    },
    {
      "cell_type": "code",
      "execution_count": null,
      "metadata": {
        "id": "dMSfEkRb4gSY",
        "outputId": "72b385cc-9db5-4464-b003-f46226576990"
      },
      "outputs": [
        {
          "name": "stdout",
          "output_type": "stream",
          "text": [
            "    culmen_length_mm  culmen_depth_mm  body_mass_g_0.009974733101252742  \\\n",
            "0           0.619497         0.788435                                 0   \n",
            "1           0.061157         0.955190                                 0   \n",
            "2           0.030322         0.836502                                 0   \n",
            "3           0.863425         0.005652                                 0   \n",
            "4           0.786718         0.576331                                 0   \n",
            "..               ...              ...                               ...   \n",
            "95          0.386928         0.799389                                 0   \n",
            "96          0.471303         0.282308                                 0   \n",
            "97          0.217129         0.114600                                 0   \n",
            "98          0.254672         0.009530                                 0   \n",
            "99          0.724172         0.066864                                 0   \n",
            "\n",
            "    body_mass_g_0.03324159140960847  body_mass_g_0.04981787625357004  \\\n",
            "0                                 0                                1   \n",
            "1                                 0                                0   \n",
            "2                                 0                                0   \n",
            "3                                 0                                0   \n",
            "4                                 0                                0   \n",
            "..                              ...                              ...   \n",
            "95                                0                                0   \n",
            "96                                0                                0   \n",
            "97                                0                                0   \n",
            "98                                0                                0   \n",
            "99                                0                                0   \n",
            "\n",
            "    body_mass_g_0.05325829753231048  body_mass_g_0.0634358119503885  \\\n",
            "0                                 0                               0   \n",
            "1                                 0                               0   \n",
            "2                                 0                               0   \n",
            "3                                 0                               0   \n",
            "4                                 0                               0   \n",
            "..                              ...                             ...   \n",
            "95                                0                               0   \n",
            "96                                0                               0   \n",
            "97                                0                               0   \n",
            "98                                0                               0   \n",
            "99                                0                               0   \n",
            "\n",
            "    body_mass_g_0.06348806559949194  body_mass_g_0.06835124837536233  \\\n",
            "0                                 0                                0   \n",
            "1                                 0                                0   \n",
            "2                                 0                                0   \n",
            "3                                 0                                0   \n",
            "4                                 0                                0   \n",
            "..                              ...                              ...   \n",
            "95                                0                                0   \n",
            "96                                0                                0   \n",
            "97                                0                                0   \n",
            "98                                0                                0   \n",
            "99                                1                                0   \n",
            "\n",
            "    body_mass_g_0.0809441235883206  ...  flipper_length_mm_0.9235590499580286  \\\n",
            "0                                0  ...                                     0   \n",
            "1                                0  ...                                     0   \n",
            "2                                0  ...                                     0   \n",
            "3                                0  ...                                     0   \n",
            "4                                0  ...                                     0   \n",
            "..                             ...  ...                                   ...   \n",
            "95                               0  ...                                     0   \n",
            "96                               0  ...                                     0   \n",
            "97                               0  ...                                     0   \n",
            "98                               0  ...                                     0   \n",
            "99                               0  ...                                     0   \n",
            "\n",
            "    flipper_length_mm_0.9373638237566263  \\\n",
            "0                                      0   \n",
            "1                                      0   \n",
            "2                                      0   \n",
            "3                                      0   \n",
            "4                                      0   \n",
            "..                                   ...   \n",
            "95                                     0   \n",
            "96                                     0   \n",
            "97                                     0   \n",
            "98                                     0   \n",
            "99                                     0   \n",
            "\n",
            "    flipper_length_mm_0.9538769914143631  \\\n",
            "0                                      0   \n",
            "1                                      0   \n",
            "2                                      0   \n",
            "3                                      0   \n",
            "4                                      0   \n",
            "..                                   ...   \n",
            "95                                     0   \n",
            "96                                     0   \n",
            "97                                     0   \n",
            "98                                     0   \n",
            "99                                     0   \n",
            "\n",
            "    flipper_length_mm_0.9621805244880077  \\\n",
            "0                                      0   \n",
            "1                                      0   \n",
            "2                                      0   \n",
            "3                                      0   \n",
            "4                                      0   \n",
            "..                                   ...   \n",
            "95                                     0   \n",
            "96                                     0   \n",
            "97                                     0   \n",
            "98                                     0   \n",
            "99                                     0   \n",
            "\n",
            "    flipper_length_mm_0.9687033782107564  \\\n",
            "0                                      0   \n",
            "1                                      0   \n",
            "2                                      0   \n",
            "3                                      0   \n",
            "4                                      0   \n",
            "..                                   ...   \n",
            "95                                     0   \n",
            "96                                     0   \n",
            "97                                     0   \n",
            "98                                     0   \n",
            "99                                     0   \n",
            "\n",
            "    flipper_length_mm_0.9792281438203934  \\\n",
            "0                                      0   \n",
            "1                                      0   \n",
            "2                                      0   \n",
            "3                                      0   \n",
            "4                                      0   \n",
            "..                                   ...   \n",
            "95                                     0   \n",
            "96                                     0   \n",
            "97                                     0   \n",
            "98                                     0   \n",
            "99                                     0   \n",
            "\n",
            "    flipper_length_mm_0.9829535717675453  \\\n",
            "0                                      1   \n",
            "1                                      0   \n",
            "2                                      0   \n",
            "3                                      0   \n",
            "4                                      0   \n",
            "..                                   ...   \n",
            "95                                     0   \n",
            "96                                     0   \n",
            "97                                     0   \n",
            "98                                     0   \n",
            "99                                     0   \n",
            "\n",
            "    flipper_length_mm_0.9904843879367103  \\\n",
            "0                                      0   \n",
            "1                                      0   \n",
            "2                                      0   \n",
            "3                                      0   \n",
            "4                                      0   \n",
            "..                                   ...   \n",
            "95                                     0   \n",
            "96                                     0   \n",
            "97                                     0   \n",
            "98                                     0   \n",
            "99                                     0   \n",
            "\n",
            "    flipper_length_mm_0.9906799993503721  flipper_length_mm_0.9923362375458921  \n",
            "0                                      0                                     0  \n",
            "1                                      0                                     0  \n",
            "2                                      0                                     0  \n",
            "3                                      0                                     0  \n",
            "4                                      0                                     0  \n",
            "..                                   ...                                   ...  \n",
            "95                                     0                                     0  \n",
            "96                                     0                                     0  \n",
            "97                                     0                                     0  \n",
            "98                                     0                                     1  \n",
            "99                                     0                                     0  \n",
            "\n",
            "[100 rows x 202 columns]\n"
          ]
        }
      ],
      "source": [
        "# Perform one-hot encoding\n",
        "df_encoded = pd.get_dummies(df, columns=['body_mass_g', 'flipper_length_mm'])\n",
        "\n",
        "# Display the encoded DataFrame\n",
        "print(df_encoded)\n"
      ]
    },
    {
      "cell_type": "code",
      "execution_count": null,
      "metadata": {
        "id": "bCab44FL4gSY",
        "outputId": "eda40060-e230-4ef5-b67a-cda30cd23c94"
      },
      "outputs": [
        {
          "name": "stdout",
          "output_type": "stream",
          "text": [
            "    culmen_length_mm  culmen_depth_mm  body_mass_g  flipper_length_mm  \\\n",
            "0           0.619497         0.788435     0.049818           0.982954   \n",
            "1           0.061157         0.955190     0.905512           0.650588   \n",
            "2           0.030322         0.836502     0.247442           0.374358   \n",
            "3           0.863425         0.005652     0.475928           0.833851   \n",
            "4           0.786718         0.576331     0.914381           0.065310   \n",
            "..               ...              ...          ...                ...   \n",
            "95          0.386928         0.799389     0.595300           0.366489   \n",
            "96          0.471303         0.282308     0.820338           0.311509   \n",
            "97          0.217129         0.114600     0.779467           0.870575   \n",
            "98          0.254672         0.009530     0.712111           0.992336   \n",
            "99          0.724172         0.066864     0.063488           0.279538   \n",
            "\n",
            "    Category_encoded  \n",
            "0                  2  \n",
            "1                 91  \n",
            "2                 30  \n",
            "3                 51  \n",
            "4                 93  \n",
            "..               ...  \n",
            "95                61  \n",
            "96                80  \n",
            "97                75  \n",
            "98                66  \n",
            "99                 5  \n",
            "\n",
            "[100 rows x 5 columns]\n"
          ]
        }
      ],
      "source": [
        "from sklearn.preprocessing import LabelEncoder\n",
        "\n",
        "# Initialize the LabelEncoder\n",
        "label_encoder = LabelEncoder()\n",
        "\n",
        "# Apply label encoding to the 'Category' column\n",
        "df['Category_encoded'] = label_encoder.fit_transform(df['body_mass_g'])\n",
        "\n",
        "# Display the DataFrame with the encoded 'Category' column\n",
        "print(df)\n",
        "\n"
      ]
    },
    {
      "cell_type": "markdown",
      "metadata": {
        "id": "xGGBqMhP4gSY"
      },
      "source": [
        "9. Split the data into dependent and independent variables."
      ]
    },
    {
      "cell_type": "code",
      "execution_count": null,
      "metadata": {
        "id": "fZIgnznW4gSZ",
        "outputId": "be58525b-a63e-428b-8734-a4a4a0f42261"
      },
      "outputs": [
        {
          "name": "stdout",
          "output_type": "stream",
          "text": [
            "Independent Variables (Features):\n",
            "     culmen_length_mm  body_mass_g  flipper_length_mm  Category_encoded\n",
            "0           0.619497     0.049818           0.982954                 2\n",
            "1           0.061157     0.905512           0.650588                91\n",
            "2           0.030322     0.247442           0.374358                30\n",
            "3           0.863425     0.475928           0.833851                51\n",
            "4           0.786718     0.914381           0.065310                93\n",
            "..               ...          ...                ...               ...\n",
            "95          0.386928     0.595300           0.366489                61\n",
            "96          0.471303     0.820338           0.311509                80\n",
            "97          0.217129     0.779467           0.870575                75\n",
            "98          0.254672     0.712111           0.992336                66\n",
            "99          0.724172     0.063488           0.279538                 5\n",
            "\n",
            "[100 rows x 4 columns]\n",
            "\n",
            "Dependent Variable (Target):\n",
            " 0     0.619497\n",
            "1     0.061157\n",
            "2     0.030322\n",
            "3     0.863425\n",
            "4     0.786718\n",
            "        ...   \n",
            "95    0.386928\n",
            "96    0.471303\n",
            "97    0.217129\n",
            "98    0.254672\n",
            "99    0.724172\n",
            "Name: culmen_length_mm, Length: 100, dtype: float64\n"
          ]
        }
      ],
      "source": [
        "# Assuming 'culmen_depth_mm ' is your target variable (dependent variable)\n",
        "# and the rest of the columns are your independent variables (features)\n",
        "\n",
        "# Independent variables (features)\n",
        "X = df.drop('culmen_depth_mm', axis=1)\n",
        "\n",
        "# Dependent variable (target)\n",
        "y = df['culmen_length_mm']\n",
        "\n",
        "# Display the independent and dependent variables\n",
        "print(\"Independent Variables (Features):\\n\", X)\n",
        "print(\"\\nDependent Variable (Target):\\n\", y)\n"
      ]
    },
    {
      "cell_type": "markdown",
      "metadata": {
        "id": "f-lnAtdO4gSZ"
      },
      "source": [
        "10. Scaling the data"
      ]
    },
    {
      "cell_type": "code",
      "execution_count": null,
      "metadata": {
        "id": "KRnwmrPk4gSZ",
        "outputId": "9f813e3a-c1d3-4ccd-8a75-19a87f0f1c76"
      },
      "outputs": [
        {
          "name": "stdout",
          "output_type": "stream",
          "text": [
            "Min-Max Scaled Data:\n",
            "     culmen_length_mm  body_mass_g  flipper_length_mm  Category_encoded\n",
            "0           0.618533     0.040415           0.990401          0.020202\n",
            "1           0.058162     0.908398           0.650366          0.919192\n",
            "2           0.027215     0.240877           0.367761          0.303030\n",
            "3           0.863349     0.472644           0.837857          0.515152\n",
            "4           0.786363     0.917395           0.051582          0.939394\n",
            "..               ...          ...                ...               ...\n",
            "95          0.385119     0.593731           0.359711          0.616162\n",
            "96          0.469801     0.822001           0.303463          0.808081\n",
            "97          0.214701     0.780543           0.875430          0.757576\n",
            "98          0.252381     0.712220           1.000000          0.666667\n",
            "99          0.723589     0.054282           0.270754          0.050505\n",
            "\n",
            "[100 rows x 4 columns]\n",
            "\n",
            "Standardized (Z-score Scaled) Data:\n",
            "     culmen_length_mm  body_mass_g  flipper_length_mm  Category_encoded\n",
            "0           0.439466    -1.457500           1.603638         -1.645531\n",
            "1          -1.515245     1.414238           0.464832          1.437674\n",
            "2          -1.623196    -0.794267          -0.481637         -0.675534\n",
            "3           1.293445    -0.027462           1.092756          0.051964\n",
            "4           1.024898     1.444003          -1.540550          1.506960\n",
            "..               ...          ...                ...               ...\n",
            "95         -0.374740     0.373156          -0.508597          0.398392\n",
            "96         -0.079348     1.128391          -0.696979          1.056604\n",
            "97         -0.969198     0.991226           1.218589          0.883390\n",
            "98         -0.837760     0.765178           1.635787          0.571605\n",
            "99          0.805928    -1.411623          -0.806524         -1.541602\n",
            "\n",
            "[100 rows x 4 columns]\n"
          ]
        }
      ],
      "source": [
        "import pandas as pd\n",
        "from sklearn.preprocessing import MinMaxScaler, StandardScaler\n",
        "\n",
        "# Assuming you have already split the data into independent variables (X) and dependent variable (y)\n",
        "\n",
        "# Min-Max Scaling\n",
        "min_max_scaler = MinMaxScaler()\n",
        "X_min_max_scaled = min_max_scaler.fit_transform(X)\n",
        "\n",
        "# Standardization (Z-score scaling)\n",
        "standard_scaler = StandardScaler()\n",
        "X_standard_scaled = standard_scaler.fit_transform(X)\n",
        "\n",
        "# Display the scaled data\n",
        "print(\"Min-Max Scaled Data:\\n\", pd.DataFrame(X_min_max_scaled, columns=X.columns))\n",
        "print(\"\\nStandardized (Z-score Scaled) Data:\\n\", pd.DataFrame(X_standard_scaled, columns=X.columns))\n"
      ]
    },
    {
      "cell_type": "markdown",
      "metadata": {
        "id": "5qPuvfDZ4gSZ"
      },
      "source": [
        "11. Split the data into training and testing"
      ]
    },
    {
      "cell_type": "code",
      "execution_count": null,
      "metadata": {
        "id": "o-W4tKGy4gSZ"
      },
      "outputs": [],
      "source": [
        "from sklearn.model_selection import train_test_split\n",
        "\n",
        "# Split the data into training and testing sets\n",
        "X_train, X_test, y_train, y_test = train_test_split(X, y, test_size=0.2, random_state=42)\n",
        "\n"
      ]
    },
    {
      "cell_type": "markdown",
      "metadata": {
        "id": "-HQD3nch4gSZ"
      },
      "source": [
        "12.check the training and testing data shape."
      ]
    },
    {
      "cell_type": "code",
      "execution_count": null,
      "metadata": {
        "id": "VVhu9Yhc4gSZ",
        "outputId": "78bfeac6-9de0-4016-ae5d-cdb2949998f0"
      },
      "outputs": [
        {
          "name": "stdout",
          "output_type": "stream",
          "text": [
            "X_train shape: (80, 4)\n",
            "X_test shape: (20, 4)\n",
            "y_train shape: (80,)\n",
            "y_test shape: (20,)\n"
          ]
        }
      ],
      "source": [
        "# Display the shapes of the resulting sets\n",
        "print(\"X_train shape:\", X_train.shape)\n",
        "print(\"X_test shape:\", X_test.shape)\n",
        "print(\"y_train shape:\", y_train.shape)\n",
        "print(\"y_test shape:\", y_test.shape)\n"
      ]
    },
    {
      "cell_type": "code",
      "execution_count": null,
      "metadata": {
        "id": "Mqv5HIAk4gSa"
      },
      "outputs": [],
      "source": []
    }
  ],
  "metadata": {
    "kernelspec": {
      "display_name": "Python 3.11.0 64-bit",
      "language": "python",
      "name": "python3"
    },
    "language_info": {
      "codemirror_mode": {
        "name": "ipython",
        "version": 3
      },
      "file_extension": ".py",
      "mimetype": "text/x-python",
      "name": "python",
      "nbconvert_exporter": "python",
      "pygments_lexer": "ipython3",
      "version": "3.11.0"
    },
    "orig_nbformat": 4,
    "vscode": {
      "interpreter": {
        "hash": "c261aea317cc0286b3b3261fbba9abdec21eaa57589985bb7a274bf54d6cc0a7"
      }
    },
    "colab": {
      "provenance": [],
      "include_colab_link": true
    }
  },
  "nbformat": 4,
  "nbformat_minor": 0
}